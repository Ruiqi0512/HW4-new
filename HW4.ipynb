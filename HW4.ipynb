{
 "cells": [
  {
   "cell_type": "markdown",
   "id": "6e4d7e05",
   "metadata": {},
   "source": [
    "1. \n",
    "in my own words\n",
    "the standard error of the mean is focus on the mean, and choose the accuracy of itn the distribution means the spread of the dataset. It is fouse on the whole dataset and also the variability.      \n",
    "The difference visual representation of common data, the area of the standard deviation are large, and the area of standard error of the mean is small Also, the function to calculate these are different."
   ]
  },
  {
   "cell_type": "markdown",
   "id": "6a90c57c",
   "metadata": {},
   "source": [
    " link of chatbot https://chatgpt.com/share/66fb3652-4ab4-8007-9232-479db5074d81"
   ]
  },
  {
   "cell_type": "markdown",
   "id": "8e40241f",
   "metadata": {},
   "source": [
    "2. in my own: create a 95% confidence interval = mean + (1.96 * SEM )"
   ]
  },
  {
   "cell_type": "markdown",
   "id": "ead74cd6",
   "metadata": {},
   "source": [
    " chatbot a summary of how to use the standard error of the mean (SEM) to create a 95% confidence interval covering 95% of bootstrapped sample means:\n",
    "\n",
    " Bootstrapping: Resample the data (with replacement) multiple times (e.g., 10,000) and calculate the mean for each resample to create a distribution of bootstrapped sample means.\n",
    "\n",
    " Calculate SEM: Find the standard error of the mean for the bootstrapped sample means. This involves dividing the standard deviation of the bootstrapped means by the square root of the sample size.\n",
    "\n",
    " Confidence Interval Methods:\n",
    "\n",
    " Percentile Method: Directly use the 2.5th and 97.5th percentiles of the bootstrapped means to get the 95% confidence interval.\n",
    " SEM Method: Multiply the SEM by the Z-score (1.96 for 95% confidence) to get the margin of error. Add and subtract this from the sample mean to create the interval.\n"
   ]
  },
  {
   "cell_type": "markdown",
   "id": "1230dfa0",
   "metadata": {},
   "source": [
    " Link of chatbot https://chatgpt.com/share/66fb4178-0830-8007-9170-f32f976695c6"
   ]
  },
  {
   "cell_type": "markdown",
   "id": "62813878",
   "metadata": {},
   "source": [
    " 3. we create a 95% bootstrapped confidence interval using the bootstrapped means without using their standard deviation to estimate the standard error of the mean\n",
    "    Fristly, Generate Bootstrap Samples"
   ]
  },
  {
   "cell_type": "markdown",
   "id": "d82ca3e7",
   "metadata": {},
   "source": [
    " secendly. \n",
    "lower_bound = np.quantile(bootstrapped_means, 0.025)\n",
    "upper_bound = np.quantile(bootstrapped_means, 0.975)\n"
   ]
  },
  {
   "cell_type": "markdown",
   "id": "05e897ea",
   "metadata": {},
   "source": [
    "thirdly. using the each  Bootstrapped  and  compute the sample mean."
   ]
  },
  {
   "cell_type": "code",
   "execution_count": null,
   "id": "cc9f6c37",
   "metadata": {},
   "outputs": [],
   "source": [
    " 4.\n",
    "\n",
    "\n",
    "import numpy as np\n",
    "\n",
    "# Sample data\n",
    "sample = np.array([5, 10, 15, 20, 25, 30, 35, 40, 45, 50])\n",
    "\n",
    "# Number of bootstrap samples\n",
    "n_bootstraps = 1000\n",
    "\n",
    "# Define the function to compute the statistic of interest (population mean in this case)\n",
    "# Change np.mean to np.median or another statistic (e.g., np.std) to compute other parameters.\n",
    "def bootstrap_statistic(data, func=np.mean, n_bootstraps=1000, ci=0.95):\n",
    "    bootstrapped_samples = np.random.choice(data, size=(n_bootstraps, len(data)), replace=True)\n",
    "    stat_estimates = np.apply_along_axis(func, 1, bootstrapped_samples)\n",
    "    lower_bound = np.quantile(stat_estimates, (1 - ci) / 2)\n",
    "    upper_bound = np.quantile(stat_estimates, 1 - (1 - ci) / 2)\n",
    "    return lower_bound, upper_bound\n",
    "\n",
    "# Calculate the 95% bootstrap confidence interval for the mean\n",
    "ci_mean = bootstrap_statistic(sample, func=np.mean, n_bootstraps=n_bootstraps)\n",
    "\n",
    "# Print the result for population mean\n",
    "print(f\"95% Bootstrap Confidence Interval for the Population Mean: {ci_mean}\")\n",
    "\n",
    "# To calculate a 95% bootstrap confidence interval for the population median,\n",
    "# change func=np.mean to func=np.median when calling the bootstrap_statistic function.\n",
    "ci_median = bootstrap_statistic(sample, func=np.median, n_bootstraps=n_bootstraps)\n",
    "\n",
    "# Print the result for population median\n",
    "print(f\"95% Bootstrap Confidence Interval for the Population Median: {ci_median}\")\n"
   ]
  },
  {
   "cell_type": "markdown",
   "id": "d624adf2",
   "metadata": {},
   "source": [
    "Here's a summary of chatbot\n",
    "\n",
    "The line `ci_median = bootstrap_statistic(sample, func=np.median, n_bootstraps=n_bootstraps)` calculates the **95% bootstrap confidence interval** for the **population median** based on the given sample.\n",
    "  \n",
    "The function `bootstrap_statistic`:\n",
    "Generates a specified number of bootstrap samples (in this case, 1000).\n",
    "Applies the **median** function (`np.median`) to each bootstrap sample.\n",
    "Calculates the 95% confidence interval by finding the 2.5th and 97.5th percentiles of the bootstrap medians.\n",
    "You can change the `func` argument to other functions (like `np.mean` for the mean or `np.std` for the standard deviation) to compute the confidence interval for different population parameters.\n",
    "\n"
   ]
  },
  {
   "cell_type": "markdown",
   "id": "419404fb",
   "metadata": {},
   "source": [
    " chatbot link  https://chatgpt.com/share/66fb51e2-37fc-8007-b4bb-dfbb8389b962"
   ]
  },
  {
   "cell_type": "markdown",
   "id": "30262edb",
   "metadata": {},
   "source": [
    "  \"Post-lecture\" HW"
   ]
  },
  {
   "cell_type": "markdown",
   "id": "0da98636",
   "metadata": {},
   "source": [
    " 5. in my own words: I think the roles of popualation parameter and the sample sample statistic are so different,\n",
    " the roles of the population parameter is for showcase the whole quantity,and the sample statistic is for estumate to show the related of that\n",
    " the reason to  distinguish between the role of the popualation parameter and the sample sample statistic when it comes to confidence intervals\n",
    " is it will show whether the resource are certainty and it can choose the true methods, and clarify the generalizability."
   ]
  },
  {
   "cell_type": "markdown",
   "id": "df510009",
   "metadata": {},
   "source": [
    "the summery of the chatbot  Summary of Interactions:\n",
    "\n",
    "Population Parameter vs. Sample Statistic:\n",
    " Parameter refers to a fixed, unknown value describing a characteristic of an entire \n",
    "Sample Statistic is a value calculated from sample data, used to estimate the population parameter \n",
    "The goal of statistical inference is to use the sample statistic to make educated guesses about the population parameter.\n",
    "The sample mean is an unbiased estimator, meaning the expected value of the sample mean across many samples is equal to the population mean: \n",
    "\n",
    "Role of Population Parameter and Sample Statistic in Confidence Intervals:\n",
    "The sample statistic is the central point used to create the confidence interval.\n",
    "The confidence interval helps estimate the population parameter (which is unknown) by providing a range of plausible values based on the sample statistic.\n",
    "The sample statistic varies from sample to sample, but the population parameter remains fixed. Confidence intervals account for this uncertainty in estimation.\n",
    "\n",
    "Why We Distinguish Population Parameter and Sample Statistic:\n",
    "Uncertainty: The sample statistic varies from sample to sample, while the population parameter is fixed but unknown. We distinguish them to understand and quantify uncertainty in our estimates.\n",
    "Generalization: The sample statistic reflects the sample data, while we aim to generalize findings to the population. The distinction helps ensure that the confidence interval reflects the population and not just the sample.\n",
    "Interpretation: Misunderstanding the difference could lead to incorrect interpretations, such as assuming the sample statistic is the true population parameter."
   ]
  },
  {
   "cell_type": "markdown",
   "id": "3637676c",
   "metadata": {},
   "source": [
    "chat bot link https://chatgpt.com/share/66fb5646-18fc-8007-907a-4e2f6da9bf15"
   ]
  },
  {
   "cell_type": "markdown",
   "id": "28108fe6",
   "metadata": {},
   "source": [
    "6.1 What is the process of bootstrapping?\n",
    " 1)make a bootstrapped dataset\n",
    " 2)Calculate something like the mean \n",
    " 3)Keep track of that calculation \n",
    " 4)Repeat steps 1 through 3 a bunch of time"
   ]
  },
  {
   "cell_type": "markdown",
   "id": "44366965",
   "metadata": {},
   "source": [
    " 6.2 What is the main purpose of bootstrapping?\n",
    "I think it is benefit to estimate confidence intervals, standard errors, or other measures of uncertainty.\n"
   ]
  },
  {
   "cell_type": "markdown",
   "id": "1da2f18e",
   "metadata": {},
   "source": [
    " 6.3 If you had a (hypothesized) guess about what the average of a population was, and you had a sample of size n from thatpopulation, how could you use bootstrapping to assess whether or not your (hypothesized) guess might be plausible\n",
    "Resample the data: Perform bootstrapping by randomly sampling from  original sample  \n",
    "Calculate the sample means: For each bootstrapped resample, calculate the mean.\n",
    "Construct a confidence interval: From the bootstrapped sample means, construct a confidence interval for the population mean. \n",
    "Finally, compare the mean to hypothesizes"
   ]
  },
  {
   "cell_type": "markdown",
   "id": "21f43f5a",
   "metadata": {},
   "source": [
    "7. \n",
    " A confidence interval that includes zero means that zero is a possible value for the population mean. \n",
    " We do not have enough evidence to prove that the drug has a significant effect on the average, and therefore, we    cannot reject the null hypothesis."
   ]
  },
  {
   "cell_type": "markdown",
   "id": "91dacfcd",
   "metadata": {},
   "source": [
    "8.1 Problem Introduction\n",
    "The company AliTech has created a new vaccine that aims to improve the health of the people who take it. \n",
    "The test with evaluating its effectiveness by analyzing health scores before and after vaccination."
   ]
  },
  {
   "cell_type": "markdown",
   "id": "357e6952",
   "metadata": {},
   "source": [
    "8.2 Null Hypothesis of \"No Effect\"\n",
    "A null hypothesis of \"no effect\" means the vaccine has no impact on health scores.\n",
    "This means the mean difference between the final and initial health scores should be zero if the null hypothesis holds true."
   ]
  },
  {
   "cell_type": "markdown",
   "id": "c97bdfef",
   "metadata": {},
   "source": [
    "8.3 Data Visualization and Quantitative Analysis\n",
    "To illustrate and compare initial and final health scores I use two plot\n",
    "1)Bar Plot: This displays the initial and final health scores for each patient, helping us see general trends in health improvements.\n",
    "2)Box Plot of Health Score Differences: This shows the distribution of differences between final and initial scores, providing insight into the variability and central tendency of these differences."
   ]
  },
  {
   "cell_type": "code",
   "execution_count": null,
   "id": "f6800d10",
   "metadata": {},
   "outputs": [],
   "source": [
    "8.4  coding\n",
    "import numpy as np\n",
    "import pandas as pd\n",
    "import matplotlib.pyplot as plt\n",
    "\n",
    "# Set random seed for reproducibility\n",
    "np.random.seed(0)\n",
    "\n",
    "# Create and save the CSV data (simulating the process of file creation and loading)\n",
    "data = {\n",
    "    \"PatientID\": [1, 2, 3, 4, 5, 6, 7, 8, 9, 10],\n",
    "    \"Age\": [45, 34, 29, 52, 37, 41, 33, 48, 26, 39],\n",
    "    \"Gender\": [\"M\", \"F\", \"M\", \"F\", \"M\", \"F\", \"M\", \"F\", \"M\", \"F\"],\n",
    "    \"InitialHealthScore\": [84, 78, 83, 81, 81, 80, 79, 85, 76, 83],\n",
    "    \"FinalHealthScore\": [86, 86, 80, 86, 84, 86, 86, 82, 83, 84]\n",
    "}\n",
    "df = pd.DataFrame(data)\n",
    "df.to_csv(\"health_data.csv\", index=False)\n",
    "\n",
    "# Read the CSV file\n",
    "df = pd.read_csv(\"health_data.csv\")\n",
    "\n",
    "# Calculate the Health Score Difference\n",
    "df['HealthScoreDifference'] = df['FinalHealthScore'] - df['InitialHealthScore']\n",
    "\n",
    "# Bootstrapping procedure for mean difference\n",
    "n_bootstrap_samples = 10000\n",
    "bootstrap_means = [np.random.choice(df['HealthScoreDifference'], size=len(df), replace=True).mean() for _ in range(n_bootstrap_samples)]\n",
    "\n",
    "# Confidence Interval\n",
    "ci_lower, ci_upper = np.percentile(bootstrap_means, [2.5, 97.5])\n",
    "ci_lower, ci_upper\n"
   ]
  },
  {
   "cell_type": "markdown",
   "id": "2557d1c8",
   "metadata": {},
   "source": [
    "8.5\n",
    "Quantitative Analysis\n",
    "Additionally, applying bootstrapping to calculate a confidence interval for the mean health score difference. Bootstrapping is beneficial here as it estimates variability without assuming the data follows a specific distribution.\n",
    "Objective: Estimate the mean difference in health scores and assess whether it’s significantly greater than zero.\n",
    "Method: Generate 10,000 bootstrapped samples of health score differences, calculate each sample’s mean, and use these to construct a 95% confidence interval.\n"
   ]
  },
  {
   "cell_type": "markdown",
   "id": "d6e58797",
   "metadata": {},
   "source": [
    "8.6  Conclusion regarding a Null Hypothesis of \"no effect\"\n",
    "After 10,000 bootstrap samples, the 95% confidence interval for the mean health score difference is approximately [0.9, 5.5]. \n",
    "This interval, entirely above zero, suggests a positive effect from the vaccine. Since this range does not include zero, it provides strong evidence against the null hypothesis of \"no effect.\"\n",
    "Based on the analysis, we reject the null hypothesis. The positive confidence interval supports the claim that the vaccine improves health scores, indicating its effectiveness.\n"
   ]
  },
  {
   "cell_type": "markdown",
   "id": "3d8c1144",
   "metadata": {},
   "source": [
    "8.7\n",
    "Further Considerations\n",
    "While bootstrapping provided robust estimates, further analysis with a larger and more diverse sample could strengthen these findings. \n",
    "Additional testing across different age groups or health conditions might yield more specific insights into the vaccine’s effectiveness across demographics.\n"
   ]
  },
  {
   "cell_type": "markdown",
   "id": "542c0c45",
   "metadata": {},
   "source": [
    "9. yes!"
   ]
  }
 ],
 "metadata": {
  "kernelspec": {
   "display_name": "Python 3 (ipykernel)",
   "language": "python",
   "name": "python3"
  },
  "language_info": {
   "codemirror_mode": {
    "name": "ipython",
    "version": 3
   },
   "file_extension": ".py",
   "mimetype": "text/x-python",
   "name": "python",
   "nbconvert_exporter": "python",
   "pygments_lexer": "ipython3",
   "version": "3.11.6"
  }
 },
 "nbformat": 4,
 "nbformat_minor": 5
}
